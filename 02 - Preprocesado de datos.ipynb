{
  "nbformat": 4,
  "nbformat_minor": 0,
  "metadata": {
    "colab": {
      "provenance": [],
      "authorship_tag": "ABX9TyN8AeJOredUHfUMf2hHTuHx",
      "include_colab_link": true
    },
    "kernelspec": {
      "name": "python3",
      "display_name": "Python 3"
    },
    "language_info": {
      "name": "python"
    }
  },
  "cells": [
    {
      "cell_type": "markdown",
      "metadata": {
        "id": "view-in-github",
        "colab_type": "text"
      },
      "source": [
        "<a href=\"https://colab.research.google.com/github/Camilarcila/Entregas-de-proyectos_Camila-Arcila/blob/main/02%20-%20Preprocesado%20de%20datos.ipynb\" target=\"_parent\"><img src=\"https://colab.research.google.com/assets/colab-badge.svg\" alt=\"Open In Colab\"/></a>"
      ]
    },
    {
      "cell_type": "markdown",
      "source": [
        "#1. Importar Datos"
      ],
      "metadata": {
        "id": "eArlwV8DPVvK"
      }
    },
    {
      "cell_type": "code",
      "source": [
        "import pandas as pd\n",
        "import numpy as np\n",
        "import seaborn as sns\n",
        "import matplotlib.pyplot as plt\n",
        "from progressbar import progressbar as pbar\n",
        "%matplotlib inline\n",
        "import warnings\n",
        "warnings.filterwarnings('ignore')"
      ],
      "metadata": {
        "id": "tw3WTnP24wcl"
      },
      "execution_count": null,
      "outputs": []
    },
    {
      "cell_type": "code",
      "source": [
        "url = 'https://raw.githubusercontent.com/AlexBedCarIA/IA_project_Alexander_Bedoya/main/datos_proyecto.csv'\n",
        "d = pd.read_csv(url)"
      ],
      "metadata": {
        "id": "GIqFGtP7Ak4i"
      },
      "execution_count": null,
      "outputs": []
    },
    {
      "cell_type": "code",
      "source": [
        "data = d.copy()\n",
        "data.head()"
      ],
      "metadata": {
        "colab": {
          "base_uri": "https://localhost:8080/",
          "height": 300
        },
        "id": "mtJ7uyyOAt9I",
        "outputId": "b931ecac-3b5f-451e-f8d1-15adb2e33c85"
      },
      "execution_count": null,
      "outputs": [
        {
          "output_type": "execute_result",
          "data": {
            "text/plain": [
              "               Id         groupId         matchId  assists  boosts  \\\n",
              "0  1282317f93861e  62b902e6760601  7c216eb5497dc7        0       5   \n",
              "1  997b9dce1c1dc2  b13038d64e7ecc  0d8c21cad71e07        0       0   \n",
              "2  3a3b05231db7c3  a55faee9b1b9b3  182134b302ae09        0       1   \n",
              "3  c74d6a0bfb2a3f  90088b32384502  2d27d88ec80c11        0       0   \n",
              "4  79fca278a83595  30a84e17a06710  03457ad31090f2        1       8   \n",
              "\n",
              "   damageDealt  DBNOs  headshotKills  heals  killPlace  ...  revives  \\\n",
              "0        52.59      0              0     11         55  ...        0   \n",
              "1        32.34      0              0      0         91  ...        0   \n",
              "2       196.00      2              0      1         36  ...        1   \n",
              "3         0.00      0              0      0         60  ...        0   \n",
              "4      1282.00      8              7      2          1  ...        0   \n",
              "\n",
              "   rideDistance  roadKills  swimDistance  teamKills vehicleDestroys  \\\n",
              "0           0.0          0           0.0          0               0   \n",
              "1           0.0          0           0.0          0               0   \n",
              "2           0.0          0           0.0          0               0   \n",
              "3           0.0          0           0.0          0               0   \n",
              "4        1652.0          0           0.0          0               0   \n",
              "\n",
              "   walkDistance  weaponsAcquired  winPoints  winPlacePerc  \n",
              "0       1795.00                5          0        0.6800  \n",
              "1          6.84                1       1487        0.0741  \n",
              "2        320.60                1          0        0.3696  \n",
              "3         39.39                2       1453        0.5532  \n",
              "4       3159.00                5       1499        1.0000  \n",
              "\n",
              "[5 rows x 29 columns]"
            ],
            "text/html": [
              "\n",
              "  <div id=\"df-0f4213c9-9a82-4f37-ab33-167df85f4b72\">\n",
              "    <div class=\"colab-df-container\">\n",
              "      <div>\n",
              "<style scoped>\n",
              "    .dataframe tbody tr th:only-of-type {\n",
              "        vertical-align: middle;\n",
              "    }\n",
              "\n",
              "    .dataframe tbody tr th {\n",
              "        vertical-align: top;\n",
              "    }\n",
              "\n",
              "    .dataframe thead th {\n",
              "        text-align: right;\n",
              "    }\n",
              "</style>\n",
              "<table border=\"1\" class=\"dataframe\">\n",
              "  <thead>\n",
              "    <tr style=\"text-align: right;\">\n",
              "      <th></th>\n",
              "      <th>Id</th>\n",
              "      <th>groupId</th>\n",
              "      <th>matchId</th>\n",
              "      <th>assists</th>\n",
              "      <th>boosts</th>\n",
              "      <th>damageDealt</th>\n",
              "      <th>DBNOs</th>\n",
              "      <th>headshotKills</th>\n",
              "      <th>heals</th>\n",
              "      <th>killPlace</th>\n",
              "      <th>...</th>\n",
              "      <th>revives</th>\n",
              "      <th>rideDistance</th>\n",
              "      <th>roadKills</th>\n",
              "      <th>swimDistance</th>\n",
              "      <th>teamKills</th>\n",
              "      <th>vehicleDestroys</th>\n",
              "      <th>walkDistance</th>\n",
              "      <th>weaponsAcquired</th>\n",
              "      <th>winPoints</th>\n",
              "      <th>winPlacePerc</th>\n",
              "    </tr>\n",
              "  </thead>\n",
              "  <tbody>\n",
              "    <tr>\n",
              "      <th>0</th>\n",
              "      <td>1282317f93861e</td>\n",
              "      <td>62b902e6760601</td>\n",
              "      <td>7c216eb5497dc7</td>\n",
              "      <td>0</td>\n",
              "      <td>5</td>\n",
              "      <td>52.59</td>\n",
              "      <td>0</td>\n",
              "      <td>0</td>\n",
              "      <td>11</td>\n",
              "      <td>55</td>\n",
              "      <td>...</td>\n",
              "      <td>0</td>\n",
              "      <td>0.0</td>\n",
              "      <td>0</td>\n",
              "      <td>0.0</td>\n",
              "      <td>0</td>\n",
              "      <td>0</td>\n",
              "      <td>1795.00</td>\n",
              "      <td>5</td>\n",
              "      <td>0</td>\n",
              "      <td>0.6800</td>\n",
              "    </tr>\n",
              "    <tr>\n",
              "      <th>1</th>\n",
              "      <td>997b9dce1c1dc2</td>\n",
              "      <td>b13038d64e7ecc</td>\n",
              "      <td>0d8c21cad71e07</td>\n",
              "      <td>0</td>\n",
              "      <td>0</td>\n",
              "      <td>32.34</td>\n",
              "      <td>0</td>\n",
              "      <td>0</td>\n",
              "      <td>0</td>\n",
              "      <td>91</td>\n",
              "      <td>...</td>\n",
              "      <td>0</td>\n",
              "      <td>0.0</td>\n",
              "      <td>0</td>\n",
              "      <td>0.0</td>\n",
              "      <td>0</td>\n",
              "      <td>0</td>\n",
              "      <td>6.84</td>\n",
              "      <td>1</td>\n",
              "      <td>1487</td>\n",
              "      <td>0.0741</td>\n",
              "    </tr>\n",
              "    <tr>\n",
              "      <th>2</th>\n",
              "      <td>3a3b05231db7c3</td>\n",
              "      <td>a55faee9b1b9b3</td>\n",
              "      <td>182134b302ae09</td>\n",
              "      <td>0</td>\n",
              "      <td>1</td>\n",
              "      <td>196.00</td>\n",
              "      <td>2</td>\n",
              "      <td>0</td>\n",
              "      <td>1</td>\n",
              "      <td>36</td>\n",
              "      <td>...</td>\n",
              "      <td>1</td>\n",
              "      <td>0.0</td>\n",
              "      <td>0</td>\n",
              "      <td>0.0</td>\n",
              "      <td>0</td>\n",
              "      <td>0</td>\n",
              "      <td>320.60</td>\n",
              "      <td>1</td>\n",
              "      <td>0</td>\n",
              "      <td>0.3696</td>\n",
              "    </tr>\n",
              "    <tr>\n",
              "      <th>3</th>\n",
              "      <td>c74d6a0bfb2a3f</td>\n",
              "      <td>90088b32384502</td>\n",
              "      <td>2d27d88ec80c11</td>\n",
              "      <td>0</td>\n",
              "      <td>0</td>\n",
              "      <td>0.00</td>\n",
              "      <td>0</td>\n",
              "      <td>0</td>\n",
              "      <td>0</td>\n",
              "      <td>60</td>\n",
              "      <td>...</td>\n",
              "      <td>0</td>\n",
              "      <td>0.0</td>\n",
              "      <td>0</td>\n",
              "      <td>0.0</td>\n",
              "      <td>0</td>\n",
              "      <td>0</td>\n",
              "      <td>39.39</td>\n",
              "      <td>2</td>\n",
              "      <td>1453</td>\n",
              "      <td>0.5532</td>\n",
              "    </tr>\n",
              "    <tr>\n",
              "      <th>4</th>\n",
              "      <td>79fca278a83595</td>\n",
              "      <td>30a84e17a06710</td>\n",
              "      <td>03457ad31090f2</td>\n",
              "      <td>1</td>\n",
              "      <td>8</td>\n",
              "      <td>1282.00</td>\n",
              "      <td>8</td>\n",
              "      <td>7</td>\n",
              "      <td>2</td>\n",
              "      <td>1</td>\n",
              "      <td>...</td>\n",
              "      <td>0</td>\n",
              "      <td>1652.0</td>\n",
              "      <td>0</td>\n",
              "      <td>0.0</td>\n",
              "      <td>0</td>\n",
              "      <td>0</td>\n",
              "      <td>3159.00</td>\n",
              "      <td>5</td>\n",
              "      <td>1499</td>\n",
              "      <td>1.0000</td>\n",
              "    </tr>\n",
              "  </tbody>\n",
              "</table>\n",
              "<p>5 rows × 29 columns</p>\n",
              "</div>\n",
              "      <button class=\"colab-df-convert\" onclick=\"convertToInteractive('df-0f4213c9-9a82-4f37-ab33-167df85f4b72')\"\n",
              "              title=\"Convert this dataframe to an interactive table.\"\n",
              "              style=\"display:none;\">\n",
              "        \n",
              "  <svg xmlns=\"http://www.w3.org/2000/svg\" height=\"24px\"viewBox=\"0 0 24 24\"\n",
              "       width=\"24px\">\n",
              "    <path d=\"M0 0h24v24H0V0z\" fill=\"none\"/>\n",
              "    <path d=\"M18.56 5.44l.94 2.06.94-2.06 2.06-.94-2.06-.94-.94-2.06-.94 2.06-2.06.94zm-11 1L8.5 8.5l.94-2.06 2.06-.94-2.06-.94L8.5 2.5l-.94 2.06-2.06.94zm10 10l.94 2.06.94-2.06 2.06-.94-2.06-.94-.94-2.06-.94 2.06-2.06.94z\"/><path d=\"M17.41 7.96l-1.37-1.37c-.4-.4-.92-.59-1.43-.59-.52 0-1.04.2-1.43.59L10.3 9.45l-7.72 7.72c-.78.78-.78 2.05 0 2.83L4 21.41c.39.39.9.59 1.41.59.51 0 1.02-.2 1.41-.59l7.78-7.78 2.81-2.81c.8-.78.8-2.07 0-2.86zM5.41 20L4 18.59l7.72-7.72 1.47 1.35L5.41 20z\"/>\n",
              "  </svg>\n",
              "      </button>\n",
              "      \n",
              "  <style>\n",
              "    .colab-df-container {\n",
              "      display:flex;\n",
              "      flex-wrap:wrap;\n",
              "      gap: 12px;\n",
              "    }\n",
              "\n",
              "    .colab-df-convert {\n",
              "      background-color: #E8F0FE;\n",
              "      border: none;\n",
              "      border-radius: 50%;\n",
              "      cursor: pointer;\n",
              "      display: none;\n",
              "      fill: #1967D2;\n",
              "      height: 32px;\n",
              "      padding: 0 0 0 0;\n",
              "      width: 32px;\n",
              "    }\n",
              "\n",
              "    .colab-df-convert:hover {\n",
              "      background-color: #E2EBFA;\n",
              "      box-shadow: 0px 1px 2px rgba(60, 64, 67, 0.3), 0px 1px 3px 1px rgba(60, 64, 67, 0.15);\n",
              "      fill: #174EA6;\n",
              "    }\n",
              "\n",
              "    [theme=dark] .colab-df-convert {\n",
              "      background-color: #3B4455;\n",
              "      fill: #D2E3FC;\n",
              "    }\n",
              "\n",
              "    [theme=dark] .colab-df-convert:hover {\n",
              "      background-color: #434B5C;\n",
              "      box-shadow: 0px 1px 3px 1px rgba(0, 0, 0, 0.15);\n",
              "      filter: drop-shadow(0px 1px 2px rgba(0, 0, 0, 0.3));\n",
              "      fill: #FFFFFF;\n",
              "    }\n",
              "  </style>\n",
              "\n",
              "      <script>\n",
              "        const buttonEl =\n",
              "          document.querySelector('#df-0f4213c9-9a82-4f37-ab33-167df85f4b72 button.colab-df-convert');\n",
              "        buttonEl.style.display =\n",
              "          google.colab.kernel.accessAllowed ? 'block' : 'none';\n",
              "\n",
              "        async function convertToInteractive(key) {\n",
              "          const element = document.querySelector('#df-0f4213c9-9a82-4f37-ab33-167df85f4b72');\n",
              "          const dataTable =\n",
              "            await google.colab.kernel.invokeFunction('convertToInteractive',\n",
              "                                                     [key], {});\n",
              "          if (!dataTable) return;\n",
              "\n",
              "          const docLinkHtml = 'Like what you see? Visit the ' +\n",
              "            '<a target=\"_blank\" href=https://colab.research.google.com/notebooks/data_table.ipynb>data table notebook</a>'\n",
              "            + ' to learn more about interactive tables.';\n",
              "          element.innerHTML = '';\n",
              "          dataTable['output_type'] = 'display_data';\n",
              "          await google.colab.output.renderOutput(dataTable, element);\n",
              "          const docLink = document.createElement('div');\n",
              "          docLink.innerHTML = docLinkHtml;\n",
              "          element.appendChild(docLink);\n",
              "        }\n",
              "      </script>\n",
              "    </div>\n",
              "  </div>\n",
              "  "
            ]
          },
          "metadata": {},
          "execution_count": 3
        }
      ]
    },
    {
      "cell_type": "markdown",
      "source": [
        "#2. Tratamiento de datos"
      ],
      "metadata": {
        "id": "q377mkISATKi"
      }
    },
    {
      "cell_type": "code",
      "source": [
        "df = data.copy()"
      ],
      "metadata": {
        "id": "1ATOcWH0Py4Q"
      },
      "execution_count": null,
      "outputs": []
    },
    {
      "cell_type": "markdown",
      "source": [
        "2.1 Las columnas Id, groupId y matchId no aportan información. Se decide borrarlas."
      ],
      "metadata": {
        "id": "PuHaB_-W41IP"
      }
    },
    {
      "cell_type": "code",
      "execution_count": null,
      "metadata": {
        "id": "y1oeXd-x4lM3",
        "colab": {
          "base_uri": "https://localhost:8080/",
          "height": 300
        },
        "outputId": "696db24c-7eba-4b7d-d490-dd3f7d2aeb18"
      },
      "outputs": [
        {
          "output_type": "execute_result",
          "data": {
            "text/plain": [
              "   assists  boosts  damageDealt  DBNOs  headshotKills  heals  killPlace  \\\n",
              "0        0       5        52.59      0              0     11         55   \n",
              "1        0       0        32.34      0              0      0         91   \n",
              "2        0       1       196.00      2              0      1         36   \n",
              "3        0       0         0.00      0              0      0         60   \n",
              "4        1       8      1282.00      8              7      2          1   \n",
              "\n",
              "   killPoints  kills  killStreaks  ...  revives  rideDistance roadKills  \\\n",
              "0           0      0            0  ...        0           0.0         0   \n",
              "1        1140      0            0  ...        0           0.0         0   \n",
              "2           0      1            1  ...        1           0.0         0   \n",
              "3        1242      0            0  ...        0           0.0         0   \n",
              "4        1043     12            3  ...        0        1652.0         0   \n",
              "\n",
              "   swimDistance  teamKills  vehicleDestroys  walkDistance  weaponsAcquired  \\\n",
              "0           0.0          0                0       1795.00                5   \n",
              "1           0.0          0                0          6.84                1   \n",
              "2           0.0          0                0        320.60                1   \n",
              "3           0.0          0                0         39.39                2   \n",
              "4           0.0          0                0       3159.00                5   \n",
              "\n",
              "   winPoints  winPlacePerc  \n",
              "0          0        0.6800  \n",
              "1       1487        0.0741  \n",
              "2          0        0.3696  \n",
              "3       1453        0.5532  \n",
              "4       1499        1.0000  \n",
              "\n",
              "[5 rows x 26 columns]"
            ],
            "text/html": [
              "\n",
              "  <div id=\"df-38315b25-dce0-4581-a580-1333f3d5802a\">\n",
              "    <div class=\"colab-df-container\">\n",
              "      <div>\n",
              "<style scoped>\n",
              "    .dataframe tbody tr th:only-of-type {\n",
              "        vertical-align: middle;\n",
              "    }\n",
              "\n",
              "    .dataframe tbody tr th {\n",
              "        vertical-align: top;\n",
              "    }\n",
              "\n",
              "    .dataframe thead th {\n",
              "        text-align: right;\n",
              "    }\n",
              "</style>\n",
              "<table border=\"1\" class=\"dataframe\">\n",
              "  <thead>\n",
              "    <tr style=\"text-align: right;\">\n",
              "      <th></th>\n",
              "      <th>assists</th>\n",
              "      <th>boosts</th>\n",
              "      <th>damageDealt</th>\n",
              "      <th>DBNOs</th>\n",
              "      <th>headshotKills</th>\n",
              "      <th>heals</th>\n",
              "      <th>killPlace</th>\n",
              "      <th>killPoints</th>\n",
              "      <th>kills</th>\n",
              "      <th>killStreaks</th>\n",
              "      <th>...</th>\n",
              "      <th>revives</th>\n",
              "      <th>rideDistance</th>\n",
              "      <th>roadKills</th>\n",
              "      <th>swimDistance</th>\n",
              "      <th>teamKills</th>\n",
              "      <th>vehicleDestroys</th>\n",
              "      <th>walkDistance</th>\n",
              "      <th>weaponsAcquired</th>\n",
              "      <th>winPoints</th>\n",
              "      <th>winPlacePerc</th>\n",
              "    </tr>\n",
              "  </thead>\n",
              "  <tbody>\n",
              "    <tr>\n",
              "      <th>0</th>\n",
              "      <td>0</td>\n",
              "      <td>5</td>\n",
              "      <td>52.59</td>\n",
              "      <td>0</td>\n",
              "      <td>0</td>\n",
              "      <td>11</td>\n",
              "      <td>55</td>\n",
              "      <td>0</td>\n",
              "      <td>0</td>\n",
              "      <td>0</td>\n",
              "      <td>...</td>\n",
              "      <td>0</td>\n",
              "      <td>0.0</td>\n",
              "      <td>0</td>\n",
              "      <td>0.0</td>\n",
              "      <td>0</td>\n",
              "      <td>0</td>\n",
              "      <td>1795.00</td>\n",
              "      <td>5</td>\n",
              "      <td>0</td>\n",
              "      <td>0.6800</td>\n",
              "    </tr>\n",
              "    <tr>\n",
              "      <th>1</th>\n",
              "      <td>0</td>\n",
              "      <td>0</td>\n",
              "      <td>32.34</td>\n",
              "      <td>0</td>\n",
              "      <td>0</td>\n",
              "      <td>0</td>\n",
              "      <td>91</td>\n",
              "      <td>1140</td>\n",
              "      <td>0</td>\n",
              "      <td>0</td>\n",
              "      <td>...</td>\n",
              "      <td>0</td>\n",
              "      <td>0.0</td>\n",
              "      <td>0</td>\n",
              "      <td>0.0</td>\n",
              "      <td>0</td>\n",
              "      <td>0</td>\n",
              "      <td>6.84</td>\n",
              "      <td>1</td>\n",
              "      <td>1487</td>\n",
              "      <td>0.0741</td>\n",
              "    </tr>\n",
              "    <tr>\n",
              "      <th>2</th>\n",
              "      <td>0</td>\n",
              "      <td>1</td>\n",
              "      <td>196.00</td>\n",
              "      <td>2</td>\n",
              "      <td>0</td>\n",
              "      <td>1</td>\n",
              "      <td>36</td>\n",
              "      <td>0</td>\n",
              "      <td>1</td>\n",
              "      <td>1</td>\n",
              "      <td>...</td>\n",
              "      <td>1</td>\n",
              "      <td>0.0</td>\n",
              "      <td>0</td>\n",
              "      <td>0.0</td>\n",
              "      <td>0</td>\n",
              "      <td>0</td>\n",
              "      <td>320.60</td>\n",
              "      <td>1</td>\n",
              "      <td>0</td>\n",
              "      <td>0.3696</td>\n",
              "    </tr>\n",
              "    <tr>\n",
              "      <th>3</th>\n",
              "      <td>0</td>\n",
              "      <td>0</td>\n",
              "      <td>0.00</td>\n",
              "      <td>0</td>\n",
              "      <td>0</td>\n",
              "      <td>0</td>\n",
              "      <td>60</td>\n",
              "      <td>1242</td>\n",
              "      <td>0</td>\n",
              "      <td>0</td>\n",
              "      <td>...</td>\n",
              "      <td>0</td>\n",
              "      <td>0.0</td>\n",
              "      <td>0</td>\n",
              "      <td>0.0</td>\n",
              "      <td>0</td>\n",
              "      <td>0</td>\n",
              "      <td>39.39</td>\n",
              "      <td>2</td>\n",
              "      <td>1453</td>\n",
              "      <td>0.5532</td>\n",
              "    </tr>\n",
              "    <tr>\n",
              "      <th>4</th>\n",
              "      <td>1</td>\n",
              "      <td>8</td>\n",
              "      <td>1282.00</td>\n",
              "      <td>8</td>\n",
              "      <td>7</td>\n",
              "      <td>2</td>\n",
              "      <td>1</td>\n",
              "      <td>1043</td>\n",
              "      <td>12</td>\n",
              "      <td>3</td>\n",
              "      <td>...</td>\n",
              "      <td>0</td>\n",
              "      <td>1652.0</td>\n",
              "      <td>0</td>\n",
              "      <td>0.0</td>\n",
              "      <td>0</td>\n",
              "      <td>0</td>\n",
              "      <td>3159.00</td>\n",
              "      <td>5</td>\n",
              "      <td>1499</td>\n",
              "      <td>1.0000</td>\n",
              "    </tr>\n",
              "  </tbody>\n",
              "</table>\n",
              "<p>5 rows × 26 columns</p>\n",
              "</div>\n",
              "      <button class=\"colab-df-convert\" onclick=\"convertToInteractive('df-38315b25-dce0-4581-a580-1333f3d5802a')\"\n",
              "              title=\"Convert this dataframe to an interactive table.\"\n",
              "              style=\"display:none;\">\n",
              "        \n",
              "  <svg xmlns=\"http://www.w3.org/2000/svg\" height=\"24px\"viewBox=\"0 0 24 24\"\n",
              "       width=\"24px\">\n",
              "    <path d=\"M0 0h24v24H0V0z\" fill=\"none\"/>\n",
              "    <path d=\"M18.56 5.44l.94 2.06.94-2.06 2.06-.94-2.06-.94-.94-2.06-.94 2.06-2.06.94zm-11 1L8.5 8.5l.94-2.06 2.06-.94-2.06-.94L8.5 2.5l-.94 2.06-2.06.94zm10 10l.94 2.06.94-2.06 2.06-.94-2.06-.94-.94-2.06-.94 2.06-2.06.94z\"/><path d=\"M17.41 7.96l-1.37-1.37c-.4-.4-.92-.59-1.43-.59-.52 0-1.04.2-1.43.59L10.3 9.45l-7.72 7.72c-.78.78-.78 2.05 0 2.83L4 21.41c.39.39.9.59 1.41.59.51 0 1.02-.2 1.41-.59l7.78-7.78 2.81-2.81c.8-.78.8-2.07 0-2.86zM5.41 20L4 18.59l7.72-7.72 1.47 1.35L5.41 20z\"/>\n",
              "  </svg>\n",
              "      </button>\n",
              "      \n",
              "  <style>\n",
              "    .colab-df-container {\n",
              "      display:flex;\n",
              "      flex-wrap:wrap;\n",
              "      gap: 12px;\n",
              "    }\n",
              "\n",
              "    .colab-df-convert {\n",
              "      background-color: #E8F0FE;\n",
              "      border: none;\n",
              "      border-radius: 50%;\n",
              "      cursor: pointer;\n",
              "      display: none;\n",
              "      fill: #1967D2;\n",
              "      height: 32px;\n",
              "      padding: 0 0 0 0;\n",
              "      width: 32px;\n",
              "    }\n",
              "\n",
              "    .colab-df-convert:hover {\n",
              "      background-color: #E2EBFA;\n",
              "      box-shadow: 0px 1px 2px rgba(60, 64, 67, 0.3), 0px 1px 3px 1px rgba(60, 64, 67, 0.15);\n",
              "      fill: #174EA6;\n",
              "    }\n",
              "\n",
              "    [theme=dark] .colab-df-convert {\n",
              "      background-color: #3B4455;\n",
              "      fill: #D2E3FC;\n",
              "    }\n",
              "\n",
              "    [theme=dark] .colab-df-convert:hover {\n",
              "      background-color: #434B5C;\n",
              "      box-shadow: 0px 1px 3px 1px rgba(0, 0, 0, 0.15);\n",
              "      filter: drop-shadow(0px 1px 2px rgba(0, 0, 0, 0.3));\n",
              "      fill: #FFFFFF;\n",
              "    }\n",
              "  </style>\n",
              "\n",
              "      <script>\n",
              "        const buttonEl =\n",
              "          document.querySelector('#df-38315b25-dce0-4581-a580-1333f3d5802a button.colab-df-convert');\n",
              "        buttonEl.style.display =\n",
              "          google.colab.kernel.accessAllowed ? 'block' : 'none';\n",
              "\n",
              "        async function convertToInteractive(key) {\n",
              "          const element = document.querySelector('#df-38315b25-dce0-4581-a580-1333f3d5802a');\n",
              "          const dataTable =\n",
              "            await google.colab.kernel.invokeFunction('convertToInteractive',\n",
              "                                                     [key], {});\n",
              "          if (!dataTable) return;\n",
              "\n",
              "          const docLinkHtml = 'Like what you see? Visit the ' +\n",
              "            '<a target=\"_blank\" href=https://colab.research.google.com/notebooks/data_table.ipynb>data table notebook</a>'\n",
              "            + ' to learn more about interactive tables.';\n",
              "          element.innerHTML = '';\n",
              "          dataTable['output_type'] = 'display_data';\n",
              "          await google.colab.output.renderOutput(dataTable, element);\n",
              "          const docLink = document.createElement('div');\n",
              "          docLink.innerHTML = docLinkHtml;\n",
              "          element.appendChild(docLink);\n",
              "        }\n",
              "      </script>\n",
              "    </div>\n",
              "  </div>\n",
              "  "
            ]
          },
          "metadata": {},
          "execution_count": 5
        }
      ],
      "source": [
        "df = df.drop(['Id'], axis=1)\n",
        "df = df.drop(['groupId'], axis=1)\n",
        "df = df.drop(['matchId'], axis=1)\n",
        "df.head()"
      ]
    },
    {
      "cell_type": "markdown",
      "source": [
        "2.2 Las variables 'killPlace', 'maxPlace' y 'matchType' y se manipularán como variables categóricas, ya que son propiedades cualitativas."
      ],
      "metadata": {
        "id": "Z7bDHvhH47Ka"
      }
    },
    {
      "cell_type": "code",
      "source": [
        "df['killPlace'] = df['killPlace'].astype('category')\n",
        "df['maxPlace'] = df['maxPlace'].astype('category')\n",
        "df['matchType'] = df['matchType'].astype('category')"
      ],
      "metadata": {
        "id": "fCuaSQ8048WE"
      },
      "execution_count": null,
      "outputs": []
    },
    {
      "cell_type": "code",
      "source": [
        "df.info()"
      ],
      "metadata": {
        "colab": {
          "base_uri": "https://localhost:8080/"
        },
        "id": "LtLX3WrbOxjU",
        "outputId": "2ff071c5-c370-4e3b-f722-faeddb7e3490"
      },
      "execution_count": null,
      "outputs": [
        {
          "output_type": "stream",
          "name": "stdout",
          "text": [
            "<class 'pandas.core.frame.DataFrame'>\n",
            "RangeIndex: 200000 entries, 0 to 199999\n",
            "Data columns (total 26 columns):\n",
            " #   Column           Non-Null Count   Dtype   \n",
            "---  ------           --------------   -----   \n",
            " 0   assists          200000 non-null  int64   \n",
            " 1   boosts           200000 non-null  int64   \n",
            " 2   damageDealt      183600 non-null  float64 \n",
            " 3   DBNOs            200000 non-null  int64   \n",
            " 4   headshotKills    200000 non-null  int64   \n",
            " 5   heals            200000 non-null  int64   \n",
            " 6   killPlace        200000 non-null  category\n",
            " 7   killPoints       200000 non-null  int64   \n",
            " 8   kills            200000 non-null  int64   \n",
            " 9   killStreaks      200000 non-null  int64   \n",
            " 10  longestKill      183000 non-null  float64 \n",
            " 11  matchDuration    200000 non-null  int64   \n",
            " 12  matchType        200000 non-null  category\n",
            " 13  maxPlace         200000 non-null  category\n",
            " 14  numGroups        200000 non-null  int64   \n",
            " 15  rankPoints       200000 non-null  int64   \n",
            " 16  revives          200000 non-null  int64   \n",
            " 17  rideDistance     200000 non-null  float64 \n",
            " 18  roadKills        200000 non-null  int64   \n",
            " 19  swimDistance     200000 non-null  float64 \n",
            " 20  teamKills        200000 non-null  int64   \n",
            " 21  vehicleDestroys  200000 non-null  int64   \n",
            " 22  walkDistance     180800 non-null  float64 \n",
            " 23  weaponsAcquired  200000 non-null  int64   \n",
            " 24  winPoints        200000 non-null  int64   \n",
            " 25  winPlacePerc     200000 non-null  float64 \n",
            "dtypes: category(3), float64(6), int64(17)\n",
            "memory usage: 35.7 MB\n"
          ]
        }
      ]
    },
    {
      "cell_type": "markdown",
      "source": [
        "#3. Valores faltantes"
      ],
      "metadata": {
        "id": "sjVrnBx_Seff"
      }
    },
    {
      "cell_type": "markdown",
      "source": [
        "3.1 Análisis Gráfico de las diferentes técnicas de reemplazo de valores faltantes"
      ],
      "metadata": {
        "id": "YNlvryY0SXJ4"
      }
    },
    {
      "cell_type": "markdown",
      "source": [
        "\n",
        "**Tres técnicas de sustitución**\n",
        "\n",
        "- por un valor fijo (cero)\n",
        "- por un valor fijo (la media)\n",
        "- muestreo de una normal equivalente (misma media y estándar)\n",
        "\n",
        "**Primero** creamos los diferentes conjuntos de datos:\n",
        "\n",
        "- `dn`: datos originales solo con atributos numéricos\n",
        "- `dl0`: sustituyendo los valores faltantes por cero\n",
        "- `dlm`: sustituyendo los valores perdidos por la media\n",
        "- `dlr`: sustituyendo los valores perdidos por un normal equivalente (misma media y desviación estándar)"
      ],
      "metadata": {
        "id": "Wx5CJ3eISpkJ"
      }
    },
    {
      "cell_type": "code",
      "source": [
        "from pandas.api.types import CategoricalDtype\n",
        "def xdistplot(k, title=\"\", xlim=None):\n",
        "    vals = k\n",
        "    sns.distplot(k, hist_kws={\"alpha\": .8});\n",
        "    m,s = np.mean(vals), np.std(vals)\n",
        "    plt.axvline(m, color=\"black\", lw=2, alpha=.5)\n",
        "    plt.axvline(m+s, color=\"red\", lw=2, alpha=.5)\n",
        "    plt.axvline(m-s, color=\"red\", lw=2, alpha=.5)\n",
        "    x = np.linspace(np.min(vals), np.max(vals), 100)\n",
        "    plt.title(title)\n",
        "    plt.grid();\n",
        "    if xlim is not None:\n",
        "        plt.xlim(xlim)\n",
        "\n",
        "def subs_policies(d, col):\n",
        "    mcol = \"%s_missing\"%col\n",
        "    dn = d.T.dropna().T\n",
        "    dn = dn[[i for i in dn.columns if d[i].dtype!=object]]\n",
        "    dn = dn[[i for i in dn.columns if d[i].dtype!='category']]\n",
        "    \n",
        "    na_idxs = np.argwhere(d[col].isna().values)[:,0]\n",
        "\n",
        "    dl0 = dn.copy()\n",
        "    dlm = dn.copy()\n",
        "    dlr = dn.copy()\n",
        "\n",
        "    dl0[mcol] = d[col].fillna(0)\n",
        "    dlm[mcol] = d[col].fillna( d[col].mean())\n",
        "\n",
        "    k = d[col].copy()\n",
        "    k[k.isna()] = np.random.normal(loc=np.mean(k), scale=np.std(k), size=np.sum(k.isna()))\n",
        "    dlr[mcol] = k\n",
        "\n",
        "    fig = plt.figure(figsize=(25,5))\n",
        "\n",
        "    fig.add_subplot(2,4,1)\n",
        "    xdistplot(d[col].dropna(), title=\"original\")\n",
        "    fig.add_subplot(2,4,2)\n",
        "    xdistplot(dl0[mcol], title=\"subs by zero\")\n",
        "    fig.add_subplot(2,4,3)\n",
        "    xdistplot(dlm[mcol], title=\"subs by mean\")\n",
        "    fig.add_subplot(2,4,4)\n",
        "    xdistplot(dlr[mcol], title=\"subs by equivalent normal\")\n",
        "\n",
        "    return dn, dl0, dlm, dlr, na_idxs"
      ],
      "metadata": {
        "id": "t0BdrbzX0hLY"
      },
      "execution_count": null,
      "outputs": []
    },
    {
      "cell_type": "code",
      "source": [
        "col_nulls = df.isnull().sum()\n",
        "col_nulls[col_nulls!=0]"
      ],
      "metadata": {
        "colab": {
          "base_uri": "https://localhost:8080/"
        },
        "id": "Ledg_wWQ1IwU",
        "outputId": "d712595d-6f22-4970-ad92-163ba441bfae"
      },
      "execution_count": null,
      "outputs": [
        {
          "output_type": "execute_result",
          "data": {
            "text/plain": [
              "damageDealt     16400\n",
              "longestKill     17000\n",
              "walkDistance    19200\n",
              "dtype: int64"
            ]
          },
          "metadata": {},
          "execution_count": 9
        }
      ]
    },
    {
      "cell_type": "code",
      "source": [
        "dn_dd, dl0_dd, dlm_dd, dlr_dd, na_idxs_dd = subs_policies(df, \"damageDealt\")"
      ],
      "metadata": {
        "colab": {
          "base_uri": "https://localhost:8080/",
          "height": 222
        },
        "id": "SrkaXbG50z2X",
        "outputId": "76d5667f-4485-45aa-9557-bba4cd208607"
      },
      "execution_count": null,
      "outputs": [
        {
          "output_type": "display_data",
          "data": {
            "text/plain": [
              "<Figure size 1800x360 with 4 Axes>"
            ],
            "image/png": "[encoded data removed]"
          },
          "metadata": {
            "needs_background": "light"
          }
        }
      ]
    },
    {
      "cell_type": "code",
      "source": [
        "dn_lk, dl0_lk, dlm_lk, dlr_lk, na_idxs_lk = subs_policies(df, \"longestKill\")"
      ],
      "metadata": {
        "colab": {
          "base_uri": "https://localhost:8080/",
          "height": 222
        },
        "id": "x23GaURaIELm",
        "outputId": "6dca9507-ca96-4409-b6c7-0055d1b94dbd"
      },
      "execution_count": null,
      "outputs": [
        {
          "output_type": "display_data",
          "data": {
            "text/plain": [
              "<Figure size 1800x360 with 4 Axes>"
            ],
            "image/png": "[encoded data removed]"
          },
          "metadata": {
            "needs_background": "light"
          }
        }
      ]
    },
    {
      "cell_type": "code",
      "source": [
        "dn_wd, dl0_wd, dlm_wd, dlr_wd, na_idxs_wd = subs_policies(df, \"walkDistance\")"
      ],
      "metadata": {
        "colab": {
          "base_uri": "https://localhost:8080/",
          "height": 222
        },
        "id": "oqjCXOQrIFev",
        "outputId": "1e109bcb-c7be-467d-e70a-ec9383dcc553"
      },
      "execution_count": null,
      "outputs": [
        {
          "output_type": "display_data",
          "data": {
            "text/plain": [
              "<Figure size 1800x360 with 4 Axes>"
            ],
            "image/png": "[encoded data removed]"
          },
          "metadata": {
            "needs_background": "light"
          }
        }
      ]
    },
    {
      "cell_type": "markdown",
      "source": [
        "3.2 Flujo de trabajo de validación para reparar valores faltantes en **damageDealt**\n",
        "\n",
        "**¿Qué políticas para reparación de datos es mejor?**\n",
        "\n",
        "Respuesta corta: **No sabemos** $\\rightarrow$ **Debemos buscar pruebas**\n",
        "\n",
        "Ahora los integraremos en un flujo de trabajo de ML, creando modelos predictivos y buscando evidencia si los modelos mejoran o no al usar diferentes políticas para reparar datos faltantes.\n",
        "\n",
        "Entrenamos muchos modelos (remuestreo de datos de entrenamiento) con cada conjunto de datos y luego ejecutamos una prueba de hipótesis clásica en el modelo:\n",
        "\n",
        "**Reemplazar por 0**\n",
        "\n",
        "- $e_1$: grupo de control, modelos entrenados sin **damageDealt**\n",
        "- $e_2$: grupo de población, modelos entrenados sin **damageDealt** con fillna=0\n",
        "\n",
        "Nuestra hipótesis nula (no hay ningún efecto en el uso de la nueva variable):\n",
        "\n",
        "$$H_0: \\mu_{e_1}-\\mu_{e_2}=0 \\Rightarrow \\mu_{e_1-e_2}=0$$\n",
        "\n",
        "Nuestra hipótesis de prueba (incluir fillna=0 mejora los modelos):\n",
        "\n",
        "$$H_1: \\mu_{e_1}-\\mu_{e_2}<0 \\Rightarrow \\mu_{e_1-e_2}<0$$\n",
        "\n",
        "**Reemplazar por la media**\n",
        "\n",
        "- $e_1$: grupo de control, modelos entrenados sin **damageDealt**\n",
        "- $e_2$: grupo de población, modelos entrenados sin **damageDealt** con fillna = mean()\n",
        "\n",
        "Nuestra hipótesis nula (no hay ningún efecto en el uso de la nueva variable):\n",
        "\n",
        "$$H_0: \\mu_{e_1}-\\mu_{e_2}=0 \\Rightarrow \\mu_{e_1-e_2}=0$$\n",
        "\n",
        "Nuestra hipótesis de prueba (incluir fillna=0 mejora los modelos):\n",
        "\n",
        "$$H_1: \\mu_{e_1}-\\mu_{e_2}<0 \\Rightarrow \\mu_{e_1-e_2}<0$$\n",
        "\n",
        "**Reemplazar por una normal**\n",
        "\n",
        "- $e_1$: grupo de control, modelos entrenados sin **damageDealt**\n",
        "- $e_2$: grupo de población, modelos entrenados sin **damageDealt** con fillna = np.random.normal()\n",
        "\n",
        "Nuestra hipótesis nula (no hay ningún efecto en el uso de la nueva variable):\n",
        "\n",
        "$$H_0: \\mu_{e_1}-\\mu_{e_2}=0 \\Rightarrow \\mu_{e_1-e_2}=0$$\n",
        "\n",
        "Nuestra hipótesis de prueba (incluir fillna=0 mejora los modelos):\n",
        "\n",
        "$$H_1: \\mu_{e_1}-\\mu_{e_2}<0 \\Rightarrow \\mu_{e_1-e_2}<0$$\n",
        "\n",
        "\n",
        "**Las pruebas de hipótesis planteadas anteriormente se realizan para todas las columnas con valores faltantes, en este caso, se aplica también para longestKill y walkDistance.**"
      ],
      "metadata": {
        "id": "zj3CCsZUTQj9"
      }
    },
    {
      "cell_type": "markdown",
      "source": [
        "3.3 Pruebas de hipótesis para elección de técnica de reemplazo de valores faltantes"
      ],
      "metadata": {
        "id": "sh3rrMnzbLZW"
      }
    },
    {
      "cell_type": "code",
      "source": [
        "from sklearn.model_selection import cross_val_score, ShuffleSplit\n",
        "from sklearn.ensemble import RandomForestRegressor\n",
        "from sklearn.metrics import mean_absolute_error, make_scorer\n",
        "from scipy.stats import ttest_ind\n",
        "\n",
        "def getXY (dn):\n",
        "    xcols = [i for i in dn if i!=\"winPlacePerc\"]\n",
        "    X = dn[xcols].values.astype(float)\n",
        "    y = dn.winPlacePerc.values.astype(float)\n",
        "    return X,y,xcols\n",
        "\n",
        "def experiment(dn, estimator, n_models=20, test_size=.3):\n",
        "    X,y,_ = getXY(dn)\n",
        "    r = cross_val_score(estimator, X, y, cv=ShuffleSplit(n_models, test_size=test_size), \n",
        "                        scoring=make_scorer(mean_absolute_error))\n",
        "    return r\n",
        "\n",
        "def HTest(ref_dataset, h_datasets, n_models=30, experiment=experiment, **kwargs):\n",
        "    estimator = RandomForestRegressor(n_estimators=20)\n",
        "    re = [experiment(i, estimator, n_models=n_models, **kwargs) for i in pbar([ref_dataset]+h_datasets)]\n",
        "\n",
        "    for r in re[1:]:\n",
        "        print (ttest_ind(re[0],r))"
      ],
      "metadata": {
        "id": "1da4P9YYybR3"
      },
      "execution_count": null,
      "outputs": []
    },
    {
      "cell_type": "markdown",
      "source": [
        "Pruebas de hipótesis para técnica de reemplazo de valores faltantes para la variable damageDealt."
      ],
      "metadata": {
        "id": "-w3oNuzZaS0G"
      }
    },
    {
      "cell_type": "code",
      "source": [
        "HTest(dn_dd, [dl0_dd, dlm_dd, dlr_dd], n_models=10)"
      ],
      "metadata": {
        "colab": {
          "base_uri": "https://localhost:8080/"
        },
        "id": "tGbHishyXWhL",
        "outputId": "dc175a11-c744-48a5-e048-65084bfd2e2e"
      },
      "execution_count": null,
      "outputs": [
        {
          "output_type": "stream",
          "name": "stderr",
          "text": [
            "100% (4 of 4) |##########################| Elapsed Time: 0:14:49 Time:  0:14:49\n"
          ]
        },
        {
          "output_type": "stream",
          "name": "stdout",
          "text": [
            "Ttest_indResult(statistic=4.466452523844365, pvalue=0.0002982831806199279)\n",
            "Ttest_indResult(statistic=5.459949721096866, pvalue=3.469174879193539e-05)\n",
            "Ttest_indResult(statistic=6.020834689173713, pvalue=1.0799498903555681e-05)\n"
          ]
        }
      ]
    },
    {
      "cell_type": "markdown",
      "source": [
        "Pruebas de hipótesis para técnica de reemplazo de valores faltantes para la variable longestKill."
      ],
      "metadata": {
        "id": "Fi9vgbvnahpA"
      }
    },
    {
      "cell_type": "code",
      "source": [
        "HTest(dn_lk, [dl0_lk, dlm_lk, dlr_lk], n_models=10)"
      ],
      "metadata": {
        "colab": {
          "base_uri": "https://localhost:8080/"
        },
        "id": "THEwIzvQXWZC",
        "outputId": "026614a5-d744-4494-b629-6ce7102065ff"
      },
      "execution_count": null,
      "outputs": [
        {
          "output_type": "stream",
          "name": "stderr",
          "text": [
            "100% (4 of 4) |##########################| Elapsed Time: 0:14:26 Time:  0:14:26\n"
          ]
        },
        {
          "output_type": "stream",
          "name": "stdout",
          "text": [
            "Ttest_indResult(statistic=15.707045569864079, pvalue=5.949707898443066e-12)\n",
            "Ttest_indResult(statistic=15.01049323866388, pvalue=1.2740279450854496e-11)\n",
            "Ttest_indResult(statistic=14.802588733946148, pvalue=1.6085885364922523e-11)\n"
          ]
        }
      ]
    },
    {
      "cell_type": "markdown",
      "source": [
        "Pruebas de hipótesis para técnica de reemplazo de valores faltantes para la variable walkDistance."
      ],
      "metadata": {
        "id": "0HY3sa4caiY_"
      }
    },
    {
      "cell_type": "code",
      "source": [
        "HTest(dn_wd, [dl0_wd, dlm_wd, dlr_wd], n_models=10)"
      ],
      "metadata": {
        "colab": {
          "base_uri": "https://localhost:8080/"
        },
        "id": "E2D1Je8VLYiN",
        "outputId": "0cc9ddc7-8944-4f4b-d0c8-bfca2854fa40"
      },
      "execution_count": null,
      "outputs": [
        {
          "output_type": "stream",
          "name": "stderr",
          "text": [
            "100% (4 of 4) |##########################| Elapsed Time: 0:16:01 Time:  0:16:01\n"
          ]
        },
        {
          "output_type": "stream",
          "name": "stdout",
          "text": [
            "Ttest_indResult(statistic=157.260482869588, pvalue=1.0565086518310392e-29)\n",
            "Ttest_indResult(statistic=179.6382108488179, pvalue=9.64894786330019e-31)\n",
            "Ttest_indResult(statistic=153.28249059031282, pvalue=1.675012618544972e-29)\n"
          ]
        }
      ]
    },
    {
      "cell_type": "markdown",
      "source": [
        "Para las 3 columnas con datos faltantes, usar cualquiera de las 3 alternativas de técnicas para llenado de datos faltantes brinda una mejora en los resultados de modelos como un Random Forest Regressor con 20 árboles. No hay una diferencia notable para decidir qué técnica es mejor. Se decide reemplazar los valores faltantes con la media."
      ],
      "metadata": {
        "id": "oB0jQI7Bj0yk"
      }
    },
    {
      "cell_type": "markdown",
      "source": [
        "#4. Reemplazo de valores faltantes"
      ],
      "metadata": {
        "id": "59bvYcun0Sg-"
      }
    },
    {
      "cell_type": "code",
      "source": [
        "col_nulls[col_nulls!=0].index"
      ],
      "metadata": {
        "colab": {
          "base_uri": "https://localhost:8080/"
        },
        "id": "6Skwy1dI2-pK",
        "outputId": "549aa70c-5157-4ea6-838d-8e2f9cbd34b4"
      },
      "execution_count": null,
      "outputs": [
        {
          "output_type": "execute_result",
          "data": {
            "text/plain": [
              "Index(['damageDealt', 'longestKill', 'walkDistance'], dtype='object')"
            ]
          },
          "metadata": {},
          "execution_count": 15
        }
      ]
    },
    {
      "cell_type": "code",
      "source": [
        "for col in col_nulls[col_nulls!=0].index:\n",
        "    df[col] = df[col].fillna( df[col].mean())"
      ],
      "metadata": {
        "id": "2IFsEfzR1Dss"
      },
      "execution_count": null,
      "outputs": []
    },
    {
      "cell_type": "code",
      "source": [
        "df.info()"
      ],
      "metadata": {
        "colab": {
          "base_uri": "https://localhost:8080/"
        },
        "id": "cZnW_sBx335q",
        "outputId": "d99194d1-941d-4e6a-d14f-9be68e29dd86"
      },
      "execution_count": null,
      "outputs": [
        {
          "output_type": "stream",
          "name": "stdout",
          "text": [
            "<class 'pandas.core.frame.DataFrame'>\n",
            "RangeIndex: 200000 entries, 0 to 199999\n",
            "Data columns (total 26 columns):\n",
            " #   Column           Non-Null Count   Dtype   \n",
            "---  ------           --------------   -----   \n",
            " 0   assists          200000 non-null  int64   \n",
            " 1   boosts           200000 non-null  int64   \n",
            " 2   damageDealt      200000 non-null  float64 \n",
            " 3   DBNOs            200000 non-null  int64   \n",
            " 4   headshotKills    200000 non-null  int64   \n",
            " 5   heals            200000 non-null  int64   \n",
            " 6   killPlace        200000 non-null  category\n",
            " 7   killPoints       200000 non-null  int64   \n",
            " 8   kills            200000 non-null  int64   \n",
            " 9   killStreaks      200000 non-null  int64   \n",
            " 10  longestKill      200000 non-null  float64 \n",
            " 11  matchDuration    200000 non-null  int64   \n",
            " 12  matchType        200000 non-null  category\n",
            " 13  maxPlace         200000 non-null  category\n",
            " 14  numGroups        200000 non-null  int64   \n",
            " 15  rankPoints       200000 non-null  int64   \n",
            " 16  revives          200000 non-null  int64   \n",
            " 17  rideDistance     200000 non-null  float64 \n",
            " 18  roadKills        200000 non-null  int64   \n",
            " 19  swimDistance     200000 non-null  float64 \n",
            " 20  teamKills        200000 non-null  int64   \n",
            " 21  vehicleDestroys  200000 non-null  int64   \n",
            " 22  walkDistance     200000 non-null  float64 \n",
            " 23  weaponsAcquired  200000 non-null  int64   \n",
            " 24  winPoints        200000 non-null  int64   \n",
            " 25  winPlacePerc     200000 non-null  float64 \n",
            "dtypes: category(3), float64(6), int64(17)\n",
            "memory usage: 35.7 MB\n"
          ]
        }
      ]
    },
    {
      "cell_type": "markdown",
      "source": [
        "Exportar datos procesados y subir a Github."
      ],
      "metadata": {
        "id": "HGdeYc-GdguL"
      }
    },
    {
      "cell_type": "code",
      "source": [
        "df.to_csv('datos_proyecto_procesados.csv', index=False)"
      ],
      "metadata": {
        "id": "5H1WzHfTdm2L"
      },
      "execution_count": null,
      "outputs": []
    }
  ]
}