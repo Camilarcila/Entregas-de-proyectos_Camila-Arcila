{
  "nbformat": 4,
  "nbformat_minor": 0,
  "metadata": {
    "colab": {
      "provenance": [],
      "authorship_tag": "ABX9TyP2i9fvMTSoznbMuYBpsRg9",
      "include_colab_link": true
    },
    "kernelspec": {
      "name": "python3",
      "display_name": "Python 3"
    },
    "language_info": {
      "name": "python"
    }
  },
  "cells": [
    {
      "cell_type": "markdown",
      "metadata": {
        "id": "view-in-github",
        "colab_type": "text"
      },
      "source": [
        "<a href=\"https://colab.research.google.com/github/Camilarcila/Entregas-de-proyectos_Camila-Arcila/blob/main/03%20-%20Modelos%20e%20iteraciones.ipynb\" target=\"_parent\"><img src=\"https://colab.research.google.com/assets/colab-badge.svg\" alt=\"Open In Colab\"/></a>"
      ]
    },
    {
      "cell_type": "markdown",
      "source": [
        "#1. Importar Dependencias"
      ],
      "metadata": {
        "id": "AyuBYPes6jMx"
      }
    },
    {
      "cell_type": "code",
      "execution_count": 93,
      "metadata": {
        "id": "kR0u1Qzx6Swm"
      },
      "outputs": [],
      "source": [
        "import pandas as pd\n",
        "import numpy as np\n",
        "import seaborn as sns\n",
        "import matplotlib.pyplot as plt\n",
        "from progressbar import progressbar as pbar\n",
        "%matplotlib inline\n",
        "\n",
        "from sklearn.linear_model import LinearRegression\n",
        "from sklearn.tree import DecisionTreeRegressor\n",
        "from sklearn.ensemble import RandomForestRegressor\n",
        "from sklearn.svm import SVC\n",
        "from sklearn.model_selection import cross_validate, ShuffleSplit\n",
        "from sklearn.model_selection import learning_curve\n",
        "from sklearn.metrics import mean_absolute_error\n",
        "from sklearn.impute import SimpleImputer\n",
        "from sklearn.preprocessing import OneHotEncoder\n",
        "from sklearn.preprocessing import FunctionTransformer\n",
        "from sklearn.pipeline import Pipeline\n",
        "from sklearn.compose import ColumnTransformer\n",
        "from sklearn.preprocessing import LabelEncoder\n",
        "from sklearn import utils\n",
        "from sklearn import preprocessing\n",
        "from sklearn.model_selection import train_test_split,KFold,GroupKFold\n",
        "import lightgbm as lgb\n",
        "import gc\n",
        "\n",
        "\n",
        "import warnings\n",
        "warnings.filterwarnings('ignore')"
      ]
    },
    {
      "cell_type": "markdown",
      "source": [
        "#2. Importar datos procesados desde Github"
      ],
      "metadata": {
        "id": "wcx9iuBZc7HI"
      }
    },
    {
      "cell_type": "code",
      "source": [
        "url = 'https://raw.githubusercontent.com/AlexBedCarIA/IA_project_Alexander_Bedoya/main/datos_proyecto_procesados.csv'\n",
        "d = pd.read_csv(url)"
      ],
      "metadata": {
        "id": "fr0zLqQEe-HO"
      },
      "execution_count": 94,
      "outputs": []
    },
    {
      "cell_type": "code",
      "source": [
        "df = d.copy()"
      ],
      "metadata": {
        "id": "WcC0OuyZfAxs"
      },
      "execution_count": 95,
      "outputs": []
    },
    {
      "cell_type": "markdown",
      "source": [
        "#3. Métodos supervisados"
      ],
      "metadata": {
        "id": "08dlsIieAFvm"
      }
    },
    {
      "cell_type": "markdown",
      "source": [
        "### 3.1 Partición de los datos"
      ],
      "metadata": {
        "id": "cVcsumQFmuzT"
      }
    },
    {
      "cell_type": "code",
      "source": [
        "cols_poca_corr = ['vehicleDestroys',\n",
        " 'numGroups',\n",
        " 'roadKills',\n",
        " 'maxPlace',\n",
        " 'rankPoints',\n",
        " 'teamKills',\n",
        " 'killPoints',\n",
        " 'winPoints',\n",
        " 'matchDuration']\n"
      ],
      "metadata": {
        "id": "5LnUY1ZsEaYn"
      },
      "execution_count": 96,
      "outputs": []
    },
    {
      "cell_type": "code",
      "source": [
        "df2 = df[[col for col in df.columns if col!='matchType']][:2000000]\n",
        "df2 = df2[[col for col in df2.columns if col not in cols_poca_corr]]"
      ],
      "metadata": {
        "id": "gNcQxgAm6mAd"
      },
      "execution_count": null,
      "outputs": []
    },
    {
      "cell_type": "code",
      "source": [
        "df2 = df[[col for col in df.columns if col!='matchType']]"
      ],
      "metadata": {
        "id": "AIxRaBvrQC2b"
      },
      "execution_count": 97,
      "outputs": []
    },
    {
      "cell_type": "code",
      "source": [
        "df2.info()"
      ],
      "metadata": {
        "colab": {
          "base_uri": "https://localhost:8080/"
        },
        "id": "7MJx-wtSAutz",
        "outputId": "c45c8d20-d092-4cd7-f80b-148b5ac93886"
      },
      "execution_count": 98,
      "outputs": [
        {
          "output_type": "stream",
          "name": "stdout",
          "text": [
            "<class 'pandas.core.frame.DataFrame'>\n",
            "RangeIndex: 200000 entries, 0 to 199999\n",
            "Data columns (total 25 columns):\n",
            " #   Column           Non-Null Count   Dtype  \n",
            "---  ------           --------------   -----  \n",
            " 0   assists          200000 non-null  int64  \n",
            " 1   boosts           200000 non-null  int64  \n",
            " 2   damageDealt      200000 non-null  float64\n",
            " 3   DBNOs            200000 non-null  int64  \n",
            " 4   headshotKills    200000 non-null  int64  \n",
            " 5   heals            200000 non-null  int64  \n",
            " 6   killPlace        200000 non-null  int64  \n",
            " 7   killPoints       200000 non-null  int64  \n",
            " 8   kills            200000 non-null  int64  \n",
            " 9   killStreaks      200000 non-null  int64  \n",
            " 10  longestKill      200000 non-null  float64\n",
            " 11  matchDuration    200000 non-null  int64  \n",
            " 12  maxPlace         200000 non-null  int64  \n",
            " 13  numGroups        200000 non-null  int64  \n",
            " 14  rankPoints       200000 non-null  int64  \n",
            " 15  revives          200000 non-null  int64  \n",
            " 16  rideDistance     200000 non-null  float64\n",
            " 17  roadKills        200000 non-null  int64  \n",
            " 18  swimDistance     200000 non-null  float64\n",
            " 19  teamKills        200000 non-null  int64  \n",
            " 20  vehicleDestroys  200000 non-null  int64  \n",
            " 21  walkDistance     200000 non-null  float64\n",
            " 22  weaponsAcquired  200000 non-null  int64  \n",
            " 23  winPoints        200000 non-null  int64  \n",
            " 24  winPlacePerc     200000 non-null  float64\n",
            "dtypes: float64(6), int64(19)\n",
            "memory usage: 38.1 MB\n"
          ]
        }
      ]
    },
    {
      "cell_type": "code",
      "source": [
        "X = df2.drop(['winPlacePerc'],axis = 1).values\n",
        "y = df2['winPlacePerc'].values"
      ],
      "metadata": {
        "id": "DMoAOKWa5epl"
      },
      "execution_count": null,
      "outputs": []
    },
    {
      "cell_type": "code",
      "source": [
        "from sklearn.model_selection import train_test_split\n",
        "\n",
        "test_size = 0.3\n",
        "val_size  = test_size/(1-test_size)\n",
        "\n",
        "print (X.shape, y.shape)\n",
        "print (\"test size %.2f\"%test_size)\n",
        "print (\"val size is %.2f (relative to %.2f) \"%(val_size, 1-test_size))\n",
        "\n",
        "Xtv, Xts, ytv, yts = train_test_split(X, y, test_size=test_size)\n",
        "print (Xtv.shape, Xts.shape)"
      ],
      "metadata": {
        "colab": {
          "base_uri": "https://localhost:8080/"
        },
        "id": "RSmYa2u1O-X-",
        "outputId": "adedc88d-bd34-4274-f6a4-b23a831d11b9"
      },
      "execution_count": 127,
      "outputs": [
        {
          "output_type": "stream",
          "name": "stdout",
          "text": [
            "(200000, 24) (200000,)\n",
            "test size 0.30\n",
            "val size is 0.43 (relative to 0.70) \n",
            "(140000, 24) (60000, 24)\n"
          ]
        }
      ]
    },
    {
      "cell_type": "markdown",
      "source": [
        "###3.2 Selección de modelos"
      ],
      "metadata": {
        "id": "Ypp-DIEAnK01"
      }
    },
    {
      "cell_type": "code",
      "source": [
        "def report_cv_score(z):\n",
        "    print (\"MAE test   %.3f (±%.4f) with %d splits\"%(np.mean(z[\"test_score\"]*(-1)), np.std(z[\"test_score\"]), len(z[\"test_score\"])))\n",
        "    print (\"MAE train  %.3f (±%.4f) with %d splits\"%(np.mean(z[\"train_score\"]*(-1)), np.std(z[\"train_score\"]), len(z[\"train_score\"])))"
      ],
      "metadata": {
        "id": "U-I_SHZ95ItE"
      },
      "execution_count": 100,
      "outputs": []
    },
    {
      "cell_type": "markdown",
      "source": [
        "Se usarán 3 estimadores, de los cuales se escogerán los 2 con mejor rendimiento para encontrar los mejores hiperparámetros, correrlos con estos y quedarse con el que tenga mejor rendimiento, en este caso, un mejor [MAE](https://es.wikipedia.org/wiki/Error_absoluto_medio)."
      ],
      "metadata": {
        "id": "XS7-cFICnbNG"
      }
    },
    {
      "cell_type": "code",
      "source": [
        "estimator1 = LinearRegression()\n",
        "estimator2 = DecisionTreeRegressor(max_depth=5)\n",
        "estimator3 = RandomForestRegressor(n_estimators = 2,max_depth = 5)"
      ],
      "metadata": {
        "id": "oJGLaJ3F4--g"
      },
      "execution_count": 101,
      "outputs": []
    },
    {
      "cell_type": "code",
      "source": [
        "zscores = []\n",
        "estimators = [estimator1, estimator2, estimator3]\n",
        "for estimator in estimators:\n",
        "    print('\\n---------', estimator, '----------\\n')\n",
        "    z = cross_validate(estimator, Xtv, ytv, \n",
        "                       return_train_score=True, return_estimator=False,\n",
        "                       scoring='neg_mean_absolute_error', \n",
        "                       cv=ShuffleSplit(n_splits=10, test_size=val_size))\n",
        "    \n",
        "    report_cv_score(z)\n",
        "    zscores.append(np.abs(np.mean(z[\"test_score\"])))\n",
        "\n",
        "best = np.argmin(zscores)\n",
        "print (\"\\nSeleccionado:\", best+1)\n",
        "best_estimator = estimators[best]\n",
        "print (\"\\nModelo seleccionado:\")\n",
        "print (best_estimator)"
      ],
      "metadata": {
        "colab": {
          "base_uri": "https://localhost:8080/"
        },
        "id": "3uZzn57zBMsD",
        "outputId": "dad8607e-c48b-4167-e944-23d9b7c95bdd"
      },
      "execution_count": 109,
      "outputs": [
        {
          "output_type": "stream",
          "name": "stdout",
          "text": [
            "\n",
            "--------- LinearRegression() ----------\n",
            "\n",
            "MAE test   0.098 (±0.0002) with 10 splits\n",
            "MAE train  0.098 (±0.0002) with 10 splits\n",
            "\n",
            "--------- DecisionTreeRegressor(max_depth=5) ----------\n",
            "\n",
            "MAE test   0.093 (±0.0007) with 10 splits\n",
            "MAE train  0.093 (±0.0007) with 10 splits\n",
            "\n",
            "--------- RandomForestRegressor(max_depth=5, n_estimators=2) ----------\n",
            "\n",
            "MAE test   0.092 (±0.0010) with 10 splits\n",
            "MAE train  0.092 (±0.0009) with 10 splits\n",
            "\n",
            "Seleccionado: 3\n",
            "\n",
            "Modelo seleccionado:\n",
            "RandomForestRegressor(max_depth=5, n_estimators=2)\n"
          ]
        }
      ]
    },
    {
      "cell_type": "markdown",
      "source": [
        "Los modelos con mejor rendimiento fueron el DecisionThreeRegressor y el RandomForestRegresor, así que estos será con los que se trabajará."
      ],
      "metadata": {
        "id": "AmZR5KrQ-i78"
      }
    },
    {
      "cell_type": "markdown",
      "source": [
        "###3.3 Encontrar mejores parámetros"
      ],
      "metadata": {
        "id": "CzN3v0FDqHWO"
      }
    },
    {
      "cell_type": "markdown",
      "source": [
        "Se usará la herramienta de la libreria Scikit-Learn que permite analizar diferentes parámetros para un modelo con el fin de obtener la mejor selección de los mismos y obtener un modelo más robusto. Esta heramient utiliza una metodología de cross-validation y se le puede brindar un diccionario con diferentes valores para cada hiperparámetros y así hallar cual es la mejor opción."
      ],
      "metadata": {
        "id": "w1wimvZaCNaz"
      }
    },
    {
      "cell_type": "code",
      "source": [
        "from sklearn.model_selection import GridSearchCV"
      ],
      "metadata": {
        "id": "78Gknij9CC3L"
      },
      "execution_count": 103,
      "outputs": []
    },
    {
      "cell_type": "markdown",
      "source": [
        "3.3.1 Hiperparámetros para Decision Three Regressor"
      ],
      "metadata": {
        "id": "3dKWCmR5CZer"
      }
    },
    {
      "cell_type": "code",
      "source": [
        "parametros = {'max_depth': [5,10,15,20,25]}\n",
        "\n",
        "decission_tree = GridSearchCV(estimator = estimator2,\n",
        "                        param_grid = parametros,\n",
        "                        cv = ShuffleSplit(n_splits= 5, test_size=val_size), \n",
        "                        scoring = 'neg_mean_absolute_error',\n",
        "                        verbose = 1,\n",
        "                        return_train_score = True,\n",
        "                        n_jobs = -1)\n",
        "decission_tree.fit(Xtv, ytv)\n",
        "\n",
        "print(\"\\nMejor estimador Decision Tree: \",decission_tree.best_estimator_)\n",
        "print(\"Mejores parámetros para el estimador Decision Tree: \", decission_tree.best_params_)\n",
        "\n",
        "Des_tree = decission_tree.best_estimator_\n",
        "Des_tree.fit(Xtv, ytv)\n",
        "\n",
        "print('\\nMAE del Decision Tree en entrenamiento: ',\"{:.5f}\".format(mean_absolute_error(ytv, Des_tree.predict(Xtv))))\n",
        "print('MAE del Decision Tree seleccionado: ',\"{:.5f}\".format(mean_absolute_error(yts , Des_tree.predict(Xts))))"
      ],
      "metadata": {
        "colab": {
          "base_uri": "https://localhost:8080/"
        },
        "id": "oQua41odCciq",
        "outputId": "23120c62-e549-4649-bc4d-54db214bcbc8"
      },
      "execution_count": 117,
      "outputs": [
        {
          "output_type": "stream",
          "name": "stdout",
          "text": [
            "Fitting 5 folds for each of 5 candidates, totalling 25 fits\n",
            "\n",
            "Mejor estimador Decision Tree:  DecisionTreeRegressor(max_depth=10)\n",
            "Mejores parámetros para el estimador Decision Tree:  {'max_depth': 10}\n",
            "\n",
            "MAE del Decision Tree en entrenamiento:  0.07188\n",
            "MAE del Decision Tree seleccionado:  0.07467\n"
          ]
        }
      ]
    },
    {
      "cell_type": "markdown",
      "source": [
        "3.3.2 Hiperparámetros para Random Forest Regresor"
      ],
      "metadata": {
        "id": "q720d-diD1i6"
      }
    },
    {
      "cell_type": "code",
      "source": [
        "parametros = { 'n_estimators': [5,10,15,20,25],\n",
        "              'max_depth':[5,10,15,20,25]}\n",
        "\n",
        "forest_reg = GridSearchCV(estimator = estimator3,\n",
        "                        param_grid = parametros,\n",
        "                        cv = ShuffleSplit(n_splits= 5, test_size=val_size), \n",
        "                        scoring = 'neg_mean_absolute_error',\n",
        "                        verbose = 1,\n",
        "                        return_train_score = True,\n",
        "                        n_jobs = -1)\n",
        "forest_reg.fit(Xtv, ytv)\n",
        "\n",
        "print(\"\\nMejor estimador Random Forest: \",forest_reg.best_estimator_)\n",
        "print(\"Mejores parámetros para el estimador Random Forest: \", forest_reg.best_params_)\n",
        "\n",
        "Rdm_forest = forest_reg.best_estimator_\n",
        "Rdm_forest.fit(Xtv, ytv)\n",
        "\n",
        "print('\\nMAE del Random Forest en entrenamiento: ',\"{:.5f}\".format(mean_absolute_error(ytv, (Rdm_forest.predict(Xtv)))))\n",
        "print('MAE del Random Forest seleccionado: ',\"{:.5f}\".format(mean_absolute_error(yts , Rdm_forest.predict(Xts))))"
      ],
      "metadata": {
        "colab": {
          "base_uri": "https://localhost:8080/"
        },
        "id": "-UdgY6riD50C",
        "outputId": "c85db301-ce47-4265-9170-51ea2e042dcb"
      },
      "execution_count": 118,
      "outputs": [
        {
          "output_type": "stream",
          "name": "stdout",
          "text": [
            "Fitting 5 folds for each of 25 candidates, totalling 125 fits\n",
            "\n",
            "Mejor estimador Random Forest:  RandomForestRegressor(max_depth=15, n_estimators=25)\n",
            "Mejores parámetros para el estimador Random Forest:  {'max_depth': 15, 'n_estimators': 25}\n",
            "\n",
            "MAE del Random Forest en entrenamiento:  0.04873\n",
            "MAE del Random Forest seleccionado:  0.06452\n"
          ]
        }
      ]
    },
    {
      "cell_type": "markdown",
      "source": [
        "#4. Métodos no supervisados"
      ],
      "metadata": {
        "id": "AQ73u8aU2qgW"
      }
    },
    {
      "cell_type": "markdown",
      "source": [
        "### 4.1 PCA"
      ],
      "metadata": {
        "id": "jeAiwf9i2vHO"
      }
    },
    {
      "cell_type": "markdown",
      "source": [
        "####4.1.1 Partición de los datos"
      ],
      "metadata": {
        "id": "rH0b8szgtu7E"
      }
    },
    {
      "cell_type": "code",
      "source": [
        "X2 = df2.drop(['winPlacePerc'],axis = 1)\n",
        "y2 = df2['winPlacePerc'].values"
      ],
      "metadata": {
        "id": "__nG4Vfi2tLt"
      },
      "execution_count": 119,
      "outputs": []
    },
    {
      "cell_type": "code",
      "source": [
        "from sklearn.decomposition import PCA\n",
        "components = [5,10,15,20]\n",
        "test_size = 0.3\n",
        "val_size  = test_size/(1-test_size)\n",
        "perf = []\n",
        "Rdm_forest = RandomForestRegressor(n_estimators = 20,max_depth = 15)\n",
        "for i in components:\n",
        "    pca = PCA(n_components = i)\n",
        "    X_t = pca.fit_transform(X2)\n",
        "    \n",
        "    Xtv, Xts, ytv, yts = train_test_split(X_t, y2, test_size=test_size)\n",
        "    print (Xtv.shape, Xts.shape)\n",
        "    \n",
        "    Rdm_forest.fit(Xtv, ytv)\n",
        "    perf.append(mean_absolute_error(yts , Rdm_forest.predict(Xts)))\n",
        "    print('MAE del modelo con ', i ,'elementos: ',\"{:.5f}\".format(mean_absolute_error(yts , Rdm_forest.predict(Xts))))\n",
        "    print('------------')\n",
        "\n",
        "print('Mejor MAE: ',\"{:.5f}\".format(np.min(perf)),'  ; obtenido con ',components[np.argmin(perf)],' componentes para PCA')"
      ],
      "metadata": {
        "colab": {
          "base_uri": "https://localhost:8080/"
        },
        "id": "so7dPBad3LDt",
        "outputId": "51202913-76ad-4183-da97-1aa4dcb9aaed"
      },
      "execution_count": 121,
      "outputs": [
        {
          "output_type": "stream",
          "name": "stdout",
          "text": [
            "(140000, 5) (60000, 5)\n",
            "MAE del modelo con  5 elementos:  0.11355\n",
            "------------\n",
            "(140000, 10) (60000, 10)\n",
            "MAE del modelo con  10 elementos:  0.10205\n",
            "------------\n",
            "(140000, 15) (60000, 15)\n",
            "MAE del modelo con  15 elementos:  0.08035\n",
            "------------\n",
            "(140000, 20) (60000, 20)\n",
            "MAE del modelo con  20 elementos:  0.07612\n",
            "------------\n",
            "Mejor MAE:  0.07612   ; obtenido con  20  componentes para PCA\n"
          ]
        }
      ]
    },
    {
      "cell_type": "code",
      "source": [
        "#MEJOR PCA\n",
        "pca = PCA(n_components = 20)\n",
        "X_t1 = pca.fit_transform(X2)\n",
        "Xtv, Xts, ytv, yts = train_test_split(X_t1, y2, test_size=test_size)\n",
        "print (Xtv.shape, Xts.shape)"
      ],
      "metadata": {
        "colab": {
          "base_uri": "https://localhost:8080/"
        },
        "id": "Xz5Kx7Zk3Nfl",
        "outputId": "fefc83e8-2e0f-485a-f65a-c58204d28688"
      },
      "execution_count": 150,
      "outputs": [
        {
          "output_type": "stream",
          "name": "stdout",
          "text": [
            "(140000, 20) (60000, 20)\n"
          ]
        }
      ]
    },
    {
      "cell_type": "markdown",
      "source": [
        "####4.1.2 Encontrar mejores parámetros"
      ],
      "metadata": {
        "id": "KRtqIkb4ykEi"
      }
    },
    {
      "cell_type": "code",
      "source": [
        "parametros = { 'n_estimators': [5,10,15,20,25],\n",
        "              'max_depth':[5,10,15,20,25]}\n",
        "\n",
        "forest_reg = GridSearchCV(estimator = estimator3,\n",
        "                        param_grid = parametros,\n",
        "                        cv = ShuffleSplit(n_splits= 5, test_size=val_size), \n",
        "                        scoring = 'neg_mean_squared_error',\n",
        "                        verbose = 1,\n",
        "                        return_train_score = True,\n",
        "                        n_jobs = -1)\n",
        "forest_reg.fit(Xtv, ytv)"
      ],
      "metadata": {
        "colab": {
          "base_uri": "https://localhost:8080/"
        },
        "id": "wV0iaJxF3Ppt",
        "outputId": "ce0e0086-eaf5-4e7d-9da1-9789cc1b98cb"
      },
      "execution_count": 152,
      "outputs": [
        {
          "output_type": "stream",
          "name": "stdout",
          "text": [
            "Fitting 5 folds for each of 25 candidates, totalling 125 fits\n"
          ]
        },
        {
          "output_type": "execute_result",
          "data": {
            "text/plain": [
              "GridSearchCV(cv=ShuffleSplit(n_splits=5, random_state=None, test_size=0.4285714285714286,\n",
              "       train_size=None),\n",
              "             estimator=RandomForestRegressor(max_depth=5, n_estimators=2),\n",
              "             n_jobs=-1,\n",
              "             param_grid={'max_depth': [5, 10, 15, 20, 25],\n",
              "                         'n_estimators': [5, 10, 15, 20, 25]},\n",
              "             return_train_score=True, scoring='neg_mean_squared_error',\n",
              "             verbose=1)"
            ]
          },
          "metadata": {},
          "execution_count": 152
        }
      ]
    },
    {
      "cell_type": "code",
      "source": [
        "print(\"Mejor estimador Random Forest: \",forest_reg.best_estimator_)\n",
        "print(\"Mejores parámetros para el estimador Random Forest: \", forest_reg.best_params_)"
      ],
      "metadata": {
        "colab": {
          "base_uri": "https://localhost:8080/"
        },
        "id": "VBtUJWcl3Tkd",
        "outputId": "43151c20-1e83-4828-e0a5-8c4e2c7a5bfa"
      },
      "execution_count": 153,
      "outputs": [
        {
          "output_type": "stream",
          "name": "stdout",
          "text": [
            "Mejor estimador Random Forest:  RandomForestRegressor(max_depth=20, n_estimators=25)\n",
            "Mejores parámetros para el estimador Random Forest:  {'max_depth': 20, 'n_estimators': 25}\n"
          ]
        }
      ]
    },
    {
      "cell_type": "code",
      "source": [
        "test_size = 0.3\n",
        "val_size  = test_size/(1-test_size)\n",
        "Xtv, Xts, ytv, yts = train_test_split(X_t1, y, test_size=test_size)\n",
        "print (Xtv.shape, Xts.shape)\n",
        "Rdm_forest = RandomForestRegressor(n_estimators = 25, max_depth = 20)\n",
        "Rdm_forest.fit(Xtv, ytv)"
      ],
      "metadata": {
        "colab": {
          "base_uri": "https://localhost:8080/"
        },
        "id": "RNNkrKpY3Xw1",
        "outputId": "301ffd87-271e-45a3-b1c0-90cc84a37fd5"
      },
      "execution_count": 154,
      "outputs": [
        {
          "output_type": "stream",
          "name": "stdout",
          "text": [
            "(140000, 20) (60000, 20)\n"
          ]
        },
        {
          "output_type": "execute_result",
          "data": {
            "text/plain": [
              "RandomForestRegressor(max_depth=20, n_estimators=25)"
            ]
          },
          "metadata": {},
          "execution_count": 154
        }
      ]
    },
    {
      "cell_type": "code",
      "source": [
        "print('MAE del Random Forest en entrenamiento: ',\"{:.5f}\".format(mean_absolute_error(ytv , (Rdm_forest.predict(Xtv)))))\n",
        "print('MAE del Random Forest seleccionado: ',\"{:.5f}\".format(mean_absolute_error(yts , Rdm_forest.predict(Xts))))"
      ],
      "metadata": {
        "colab": {
          "base_uri": "https://localhost:8080/"
        },
        "id": "gfviG4RP3ZaZ",
        "outputId": "e2f31c93-9da6-473f-a015-7465d3b72bc7"
      },
      "execution_count": 155,
      "outputs": [
        {
          "output_type": "stream",
          "name": "stdout",
          "text": [
            "MAE del Random Forest en entrenamiento:  0.03377\n",
            "MAE del Random Forest seleccionado:  0.07501\n"
          ]
        }
      ]
    },
    {
      "cell_type": "markdown",
      "source": [
        "### 4.2 NMF"
      ],
      "metadata": {
        "id": "xMfkg0UoFWer"
      }
    },
    {
      "cell_type": "markdown",
      "source": [
        "#### 4.2.1 Partición de los datos"
      ],
      "metadata": {
        "id": "q6t5pePn2F2q"
      }
    },
    {
      "cell_type": "markdown",
      "source": [
        "Es necesario no tener en cuenta las columnas con valores negativos"
      ],
      "metadata": {
        "id": "DRWmS0OFJNZt"
      }
    },
    {
      "cell_type": "code",
      "source": [
        "df3 = df2.copy()\n",
        "\n",
        "for col in df2.columns:\n",
        "    if (df2[col]==-1).mean() != 0:\n",
        "        df3 = df3.drop([col],axis = 1)"
      ],
      "metadata": {
        "id": "zNsL6Tn9Fbjj"
      },
      "execution_count": 158,
      "outputs": []
    },
    {
      "cell_type": "code",
      "source": [
        "X3 = df3.drop(['winPlacePerc'],axis = 1)\n",
        "y3 = df3['winPlacePerc'].values"
      ],
      "metadata": {
        "id": "3BENbjv9ILX9"
      },
      "execution_count": 159,
      "outputs": []
    },
    {
      "cell_type": "code",
      "source": [
        "from sklearn.decomposition import NMF\n",
        "components = [5,10,15,20]\n",
        "test_size = 0.3\n",
        "val_size  = test_size/(1-test_size)\n",
        "perf = []\n",
        "Des_tree = RandomForestRegressor(n_estimators = 20,max_depth = 15)\n",
        "for i in components:\n",
        "    nmf = NMF(n_components = i)\n",
        "    X_t = nmf.fit_transform(X3)\n",
        "    \n",
        "    Xtv, Xts, ytv, yts = train_test_split(X_t, y3, test_size=test_size)\n",
        "    print (Xtv.shape, Xts.shape)\n",
        "    \n",
        "    Des_tree.fit(Xtv, ytv)\n",
        "    perf.append(mean_absolute_error(yts , Des_tree.predict(Xts)))\n",
        "    print('MAE del modelo con ', i ,'elementos: ',\"{:.5f}\".format(mean_absolute_error(yts , Des_tree.predict(Xts))))\n",
        "    print('------------')\n",
        "\n",
        "print('Mejor MAE: ',\"{:.5f}\".format(np.min(perf)),'  ; obtenido con ',components[np.argmin(perf)],' componentes para NMF')"
      ],
      "metadata": {
        "colab": {
          "base_uri": "https://localhost:8080/"
        },
        "id": "Tp-k25qJG306",
        "outputId": "3091483a-821b-4df4-e68b-c3db1e430979"
      },
      "execution_count": 160,
      "outputs": [
        {
          "output_type": "stream",
          "name": "stdout",
          "text": [
            "(140000, 5) (60000, 5)\n",
            "MAE del modelo con  5 elementos:  0.10751\n",
            "------------\n",
            "(140000, 10) (60000, 10)\n",
            "MAE del modelo con  10 elementos:  0.07297\n",
            "------------\n",
            "(140000, 15) (60000, 15)\n",
            "MAE del modelo con  15 elementos:  0.07043\n",
            "------------\n",
            "(140000, 20) (60000, 20)\n",
            "MAE del modelo con  20 elementos:  0.07019\n",
            "------------\n",
            "Mejor MAE:  0.07019   ; obtenido con  20  componentes para NMF\n"
          ]
        }
      ]
    },
    {
      "cell_type": "code",
      "source": [
        "#MEJOR NMF\n",
        "nmf = NMF(n_components = 20)\n",
        "X_t3 = nmf.fit_transform(X3)\n",
        "Xtv, Xts, ytv, yts = train_test_split(X_t3, y3, test_size=test_size)\n",
        "print (Xtv.shape, Xts.shape)"
      ],
      "metadata": {
        "colab": {
          "base_uri": "https://localhost:8080/"
        },
        "id": "IIrTEFaFG5p8",
        "outputId": "21869948-9449-4b30-b276-30add72de502"
      },
      "execution_count": 178,
      "outputs": [
        {
          "output_type": "stream",
          "name": "stdout",
          "text": [
            "(140000, 20) (60000, 20)\n"
          ]
        }
      ]
    },
    {
      "cell_type": "markdown",
      "source": [
        "####4.2.2 Encontrar mejores parámetros"
      ],
      "metadata": {
        "id": "u6XFJR-O2Tmh"
      }
    },
    {
      "cell_type": "code",
      "source": [
        "parametros = {'n_estimators': [5,10,15,20,25],\n",
        "              'max_depth':[5,10,15,20,25]}\n",
        "\n",
        "\n",
        "decission_tree = GridSearchCV(estimator = estimator3,\n",
        "                        param_grid = parametros,\n",
        "                        cv = ShuffleSplit(n_splits= 5, test_size=val_size), \n",
        "                        scoring = 'neg_mean_squared_error',\n",
        "                        verbose = 1,\n",
        "                        return_train_score = True,\n",
        "                        n_jobs = -1)\n",
        "\n",
        "decission_tree.fit(Xtv, ytv)"
      ],
      "metadata": {
        "colab": {
          "base_uri": "https://localhost:8080/"
        },
        "id": "voaFxKvxG7ba",
        "outputId": "50536ea1-fe1b-4509-fbe6-19b57bc555fc"
      },
      "execution_count": 162,
      "outputs": [
        {
          "output_type": "stream",
          "name": "stdout",
          "text": [
            "Fitting 5 folds for each of 25 candidates, totalling 125 fits\n"
          ]
        },
        {
          "output_type": "execute_result",
          "data": {
            "text/plain": [
              "GridSearchCV(cv=ShuffleSplit(n_splits=5, random_state=None, test_size=0.4285714285714286,\n",
              "       train_size=None),\n",
              "             estimator=RandomForestRegressor(max_depth=5, n_estimators=2),\n",
              "             n_jobs=-1,\n",
              "             param_grid={'max_depth': [5, 10, 15, 20, 25],\n",
              "                         'n_estimators': [5, 10, 15, 20, 25]},\n",
              "             return_train_score=True, scoring='neg_mean_squared_error',\n",
              "             verbose=1)"
            ]
          },
          "metadata": {},
          "execution_count": 162
        }
      ]
    },
    {
      "cell_type": "code",
      "source": [
        "print(\"Mejor estimador Decision Tree: \",decission_tree.best_estimator_)\n",
        "print(\"Mejores parámetros para el estimador Decision Tree: \", decission_tree.best_params_)"
      ],
      "metadata": {
        "colab": {
          "base_uri": "https://localhost:8080/"
        },
        "id": "GmHHSPJwG9Ki",
        "outputId": "293b131a-267e-43b6-c280-205fe01fa075"
      },
      "execution_count": 163,
      "outputs": [
        {
          "output_type": "stream",
          "name": "stdout",
          "text": [
            "Mejor estimador Decision Tree:  RandomForestRegressor(max_depth=15, n_estimators=25)\n",
            "Mejores parámetros para el estimador Decision Tree:  {'max_depth': 15, 'n_estimators': 25}\n"
          ]
        }
      ]
    },
    {
      "cell_type": "code",
      "source": [
        "#Mejor Decision Tree para el NMF obtenido\n",
        "test_size = 0.3\n",
        "val_size  = test_size/(1-test_size)\n",
        "Xtv, Xts, ytv, yts = train_test_split(X_t2, y3, test_size=test_size)\n",
        "print (Xtv.shape, Xts.shape)\n",
        "Des_tree = DecisionTreeRegressor(max_depth=12)\n",
        "Des_tree.fit(Xtv, ytv)"
      ],
      "metadata": {
        "colab": {
          "base_uri": "https://localhost:8080/"
        },
        "id": "T_TEfu8eG-fi",
        "outputId": "235e7447-6116-47b1-f894-c94559ff991f"
      },
      "execution_count": 164,
      "outputs": [
        {
          "output_type": "stream",
          "name": "stdout",
          "text": [
            "(140000, 20) (60000, 20)\n"
          ]
        },
        {
          "output_type": "execute_result",
          "data": {
            "text/plain": [
              "DecisionTreeRegressor(max_depth=12)"
            ]
          },
          "metadata": {},
          "execution_count": 164
        }
      ]
    },
    {
      "cell_type": "code",
      "source": [
        "print('RMSLE del Decision Tree en entrenamiento: ',\"{:.5f}\".format(mean_absolute_error(ytv , (Des_tree.predict(Xtv)))))\n",
        "print('RMSLE del Decision Tree seleccionado: ',\"{:.5f}\".format(mean_absolute_error(yts , Des_tree.predict(Xts))))"
      ],
      "metadata": {
        "colab": {
          "base_uri": "https://localhost:8080/"
        },
        "id": "FASOgeJeHALF",
        "outputId": "2ccae19f-5056-4d9d-9c45-2fdc5d01ab08"
      },
      "execution_count": 165,
      "outputs": [
        {
          "output_type": "stream",
          "name": "stdout",
          "text": [
            "RMSLE del Decision Tree en entrenamiento:  0.06748\n",
            "RMSLE del Decision Tree seleccionado:  0.07862\n"
          ]
        }
      ]
    },
    {
      "cell_type": "markdown",
      "source": [
        "#5. Curvas de aprendizaje"
      ],
      "metadata": {
        "id": "Ygl-ZT8UDGeC"
      }
    },
    {
      "cell_type": "markdown",
      "source": [
        "Usamos el módulo learnin_curve de sk.leanr.model_selection, mediante el cual al brindarle información de los tamaños del dataset, el tipo de estimador y el método de hacer los split para la metodología de cross-validation"
      ],
      "metadata": {
        "id": "P1sJ_TT9DYJp"
      }
    },
    {
      "cell_type": "markdown",
      "source": [
        "###5.1 Métodos supervisados"
      ],
      "metadata": {
        "id": "SvguOkG5Dbmq"
      }
    },
    {
      "cell_type": "code",
      "source": [
        "test_size = 0.3\n",
        "val_size  = test_size/(1-test_size)\n",
        "\n",
        "\n",
        "print (X.shape, y.shape)\n",
        "print (\"test size %.2f\"%test_size)\n",
        "print (\"val size is %.2f (relative to %.2f) \"%(val_size, 1-test_size))\n",
        "Xtv, Xts, ytv, yts = train_test_split(X, y, test_size=test_size)\n",
        "print (Xtv.shape, Xts.shape)"
      ],
      "metadata": {
        "colab": {
          "base_uri": "https://localhost:8080/"
        },
        "id": "_0K8k80eEnF-",
        "outputId": "7312dfe6-9ec5-4ab8-f06b-4b5a181cb2ce"
      },
      "execution_count": 166,
      "outputs": [
        {
          "output_type": "stream",
          "name": "stdout",
          "text": [
            "(200000, 24) (200000,)\n",
            "test size 0.30\n",
            "val size is 0.43 (relative to 0.70) \n",
            "(140000, 24) (60000, 24)\n"
          ]
        }
      ]
    },
    {
      "cell_type": "markdown",
      "source": [
        "5.1.1 Curvas de aprendizaje para Decision Three Regressor"
      ],
      "metadata": {
        "id": "v2x7SRatGKa9"
      }
    },
    {
      "cell_type": "code",
      "source": [
        "Des_tree = DecisionTreeRegressor(max_depth=10)\n",
        "train_sizes1, train_scores1, valid_scores1 = learning_curve(Des_tree, Xtv, ytv, train_sizes= [0.1, 0.3, 0.5, 0.7, 0.9], \n",
        "                 scoring ='neg_mean_absolute_error', cv = ShuffleSplit(n_splits=10, test_size=val_size))"
      ],
      "metadata": {
        "id": "sY1vYpm9EHvy"
      },
      "execution_count": 168,
      "outputs": []
    },
    {
      "cell_type": "code",
      "source": [
        "train_scores1 = np.abs(train_scores1)\n",
        "valid_scores1 = np.abs(valid_scores1)\n",
        "\n",
        "train_mean1 = np.mean(train_scores1, axis=1)\n",
        "train_std1 = np.std(train_scores1, axis=1)\n",
        "\n",
        "valid_mean1 = np.mean(valid_scores1, axis=1)\n",
        "valid_std1 = np.std(valid_scores1, axis=1)\n",
        "\n",
        "plt.subplots(1, figsize=(5,5))\n",
        "plt.plot(train_sizes1, train_mean1, '--', color=\"r\",  label=\"Training score\")\n",
        "plt.plot(train_sizes1, valid_mean1, color=\"g\", label=\"Test score\")\n",
        "\n",
        "\n",
        "\n",
        "plt.grid()\n",
        "plt.ylim(0,0.1)\n",
        "plt.title(\"Learning Curve\")\n",
        "plt.xlabel(\"Training Set Size\"), plt.ylabel(\"MAE\"), plt.legend(loc=\"best\")\n",
        "plt.tight_layout()\n",
        "plt.show()"
      ],
      "metadata": {
        "colab": {
          "base_uri": "https://localhost:8080/",
          "height": 369
        },
        "id": "X_feIJoDEPa3",
        "outputId": "48cf93a6-828e-4e71-dbc5-459c0c4044a0"
      },
      "execution_count": 173,
      "outputs": [
        {
          "output_type": "display_data",
          "data": {
            "text/plain": [
              "<Figure size 360x360 with 1 Axes>"
            ],
            "image/png": "[encoded data removed]"
          },
          "metadata": {
            "needs_background": "light"
          }
        }
      ]
    },
    {
      "cell_type": "markdown",
      "source": [
        "5.1.2 Curvas de aprendizaje para Random Forest Regresor"
      ],
      "metadata": {
        "id": "UqlzhbQUGY_f"
      }
    },
    {
      "cell_type": "code",
      "source": [
        "Rdm_forest1 = RandomForestRegressor(n_estimators = 25,max_depth = 15)\n",
        "train_sizes2, train_scores2, valid_scores2 = learning_curve(Rdm_forest1, Xtv, ytv, train_sizes= [0.1, 0.3, 0.5, 0.7, 0.9], \n",
        "                 scoring ='neg_mean_absolute_error', cv = ShuffleSplit(n_splits=10, test_size=val_size))"
      ],
      "metadata": {
        "id": "2iVT9SsoGhOX"
      },
      "execution_count": 174,
      "outputs": []
    },
    {
      "cell_type": "code",
      "source": [
        "train_scores2 = np.abs(train_scores2)\n",
        "valid_scores2 = np.abs(valid_scores2)\n",
        "\n",
        "train_mean2 = np.mean(train_scores2, axis=1)\n",
        "train_std2 = np.std(train_scores2, axis=1)\n",
        "\n",
        "valid_mean2 = np.mean(valid_scores2, axis=1)\n",
        "valid_std2 = np.std(valid_scores2, axis=1)\n",
        "\n",
        "plt.subplots(1, figsize=(5,5))\n",
        "plt.plot(train_sizes2, train_mean2, '--', color=\"r\",  label=\"Training score\")\n",
        "plt.plot(train_sizes2, valid_mean2, color=\"g\", label=\"Test score\")\n",
        "\n",
        "\n",
        "\n",
        "plt.grid()\n",
        "plt.ylim(0,0.1)\n",
        "plt.title(\"Learning Curve\")\n",
        "plt.xlabel(\"Training Set Size\"), plt.ylabel(\"MAE\"), plt.legend(loc=\"best\")\n",
        "plt.tight_layout()\n",
        "plt.show()"
      ],
      "metadata": {
        "colab": {
          "base_uri": "https://localhost:8080/",
          "height": 369
        },
        "id": "6m6RDBWdG5nv",
        "outputId": "c27c1a16-0246-4617-b9f5-fdecc66590b4"
      },
      "execution_count": 176,
      "outputs": [
        {
          "output_type": "display_data",
          "data": {
            "text/plain": [
              "<Figure size 360x360 with 1 Axes>"
            ],
            "image/png": "[encoded data removed]"
          },
          "metadata": {
            "needs_background": "light"
          }
        }
      ]
    },
    {
      "cell_type": "markdown",
      "source": [
        "###5.2 Modelos no supervisados"
      ],
      "metadata": {
        "id": "kFVH0y0IUO0r"
      }
    },
    {
      "cell_type": "markdown",
      "source": [
        "5.2.1 PCA con Random Forest"
      ],
      "metadata": {
        "id": "EnYxOrPtUSJ1"
      }
    },
    {
      "cell_type": "code",
      "source": [
        "from sklearn.decomposition import PCA\n",
        "pca = PCA(n_components = 20)\n",
        "X_t2 = pca.fit_transform(X2)\n",
        "test_size = 0.3\n",
        "val_size  = test_size/(1-test_size)\n",
        "Xtv, Xts, ytv, yts = train_test_split(X_t2, y2, test_size=test_size)"
      ],
      "metadata": {
        "id": "SSgYTdrUUV1T"
      },
      "execution_count": 179,
      "outputs": []
    },
    {
      "cell_type": "code",
      "source": [
        "Rdm_forest1 = RandomForestRegressor(n_estimators = 25,max_depth = 15)\n",
        "train_sizes3, train_scores3, valid_scores3 = learning_curve(Rdm_forest1, Xtv, ytv, train_sizes= [0.1, 0.3, 0.5, 0.7, 0.9], \n",
        "                 scoring ='neg_mean_absolute_error', cv = ShuffleSplit(n_splits=10, test_size=val_size))\n",
        "\n",
        "train_scores3 = np.abs(train_scores3)\n",
        "valid_scores3 = np.abs(valid_scores3)\n",
        "\n",
        "train_mean3 = np.mean(train_scores3, axis=1)\n",
        "train_std3 = np.std(train_scores3, axis=1)\n",
        "\n",
        "valid_mean3 = np.mean(valid_scores3, axis=1)\n",
        "valid_std3 = np.std(valid_scores3, axis=1)\n",
        "\n",
        "plt.subplots(1, figsize=(5,5))\n",
        "plt.plot(train_sizes3, train_mean3, '--', color=\"r\",  label=\"Training score\")\n",
        "plt.plot(train_sizes3, valid_mean3, color=\"g\", label=\"Test score\")\n",
        "\n",
        "\n",
        "\n",
        "plt.grid()\n",
        "plt.ylim(0,0.1)\n",
        "plt.title(\"Learning Curve\")\n",
        "plt.xlabel(\"Training Set Size\"), plt.ylabel(\"MAE\"), plt.legend(loc=\"best\")\n",
        "plt.tight_layout()\n",
        "plt.show()"
      ],
      "metadata": {
        "colab": {
          "base_uri": "https://localhost:8080/",
          "height": 369
        },
        "id": "wAFFVc7RU2H5",
        "outputId": "612a4ad8-75d3-46d6-8373-3551e5ee49bf"
      },
      "execution_count": 180,
      "outputs": [
        {
          "output_type": "display_data",
          "data": {
            "text/plain": [
              "<Figure size 360x360 with 1 Axes>"
            ],
            "image/png": "[encoded data removed]"
          },
          "metadata": {
            "needs_background": "light"
          }
        }
      ]
    },
    {
      "cell_type": "markdown",
      "source": [
        "5.2.2 NMF con Random Forest"
      ],
      "metadata": {
        "id": "idOsNmjsXSbb"
      }
    },
    {
      "cell_type": "code",
      "source": [
        "from sklearn.decomposition import NMF\n",
        "nmf = NMF(n_components = 3)\n",
        "X_t3 = nmf.fit_transform(X3)\n",
        "test_size = 0.3\n",
        "val_size  = test_size/(1-test_size)\n",
        "Xtv, Xts, ytv, yts = train_test_split(X_t2, y3, test_size=test_size)"
      ],
      "metadata": {
        "id": "YUak-hHzXZJc"
      },
      "execution_count": 181,
      "outputs": []
    },
    {
      "cell_type": "code",
      "source": [
        "Rdm_forest2 = RandomForestRegressor(n_estimators = 25,max_depth = 15)\n",
        "train_sizes4, train_scores4, valid_scores4 = learning_curve(Rdm_forest2, Xtv, ytv, train_sizes= [0.1, 0.3, 0.5, 0.7, 0.9], \n",
        "                 scoring ='neg_mean_absolute_error', cv = ShuffleSplit(n_splits=10, test_size=val_size))\n",
        "\n",
        "train_scores4 = np.abs(train_scores4)\n",
        "valid_scores4 = np.abs(valid_scores4)\n",
        "\n",
        "train_mean4 = np.mean(train_scores4, axis=1)\n",
        "train_std4 = np.std(train_scores4, axis=1)\n",
        "\n",
        "valid_mean4 = np.mean(valid_scores4, axis=1)\n",
        "valid_std4 = np.std(valid_scores4, axis=1)\n",
        "\n",
        "plt.subplots(1, figsize=(5,5))\n",
        "plt.plot(train_sizes4, train_mean4, '--', color=\"r\",  label=\"Training score\")\n",
        "plt.plot(train_sizes4, valid_mean4, color=\"g\", label=\"Test score\")\n",
        "\n",
        "\n",
        "\n",
        "plt.grid()\n",
        "plt.ylim(0,0.1)\n",
        "plt.title(\"Learning Curve\")\n",
        "plt.xlabel(\"Training Set Size\"), plt.ylabel(\"MAE\"), plt.legend(loc=\"best\")\n",
        "plt.tight_layout()\n",
        "plt.show()"
      ],
      "metadata": {
        "colab": {
          "base_uri": "https://localhost:8080/",
          "height": 369
        },
        "id": "pqBM_eI7Xdai",
        "outputId": "fd41337d-72f7-4707-964e-9638b4af7574"
      },
      "execution_count": 182,
      "outputs": [
        {
          "output_type": "display_data",
          "data": {
            "text/plain": [
              "<Figure size 360x360 with 1 Axes>"
            ],
            "image/png": "[encoded data removed]"
          },
          "metadata": {
            "needs_background": "light"
          }
        }
      ]
    }
  ]
}